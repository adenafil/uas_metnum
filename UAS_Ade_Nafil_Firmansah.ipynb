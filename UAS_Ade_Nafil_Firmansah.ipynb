{
  "nbformat": 4,
  "nbformat_minor": 0,
  "metadata": {
    "colab": {
      "provenance": [],
      "authorship_tag": "ABX9TyMaGn5V/Ip7CXm36Dk6MKwj",
      "include_colab_link": true
    },
    "kernelspec": {
      "name": "python3",
      "display_name": "Python 3"
    },
    "language_info": {
      "name": "python"
    }
  },
  "cells": [
    {
      "cell_type": "markdown",
      "metadata": {
        "id": "view-in-github",
        "colab_type": "text"
      },
      "source": [
        "<a href=\"https://colab.research.google.com/github/adenafil/uas_metnum/blob/main/UAS_Ade_Nafil_Firmansah.ipynb\" target=\"_parent\"><img src=\"https://colab.research.google.com/assets/colab-badge.svg\" alt=\"Open In Colab\"/></a>"
      ]
    },
    {
      "cell_type": "markdown",
      "source": [
        "A. Persiapan Data\n",
        "\n",
        "  1. Import library Numerical Python (Numpy)"
      ],
      "metadata": {
        "id": "tlqMtC9pI3Ab"
      }
    },
    {
      "cell_type": "code",
      "execution_count": 47,
      "metadata": {
        "id": "cfn7fgHOE1B4"
      },
      "outputs": [],
      "source": [
        "import numpy as np"
      ]
    },
    {
      "cell_type": "markdown",
      "source": [
        "  2. Import library pandas"
      ],
      "metadata": {
        "id": "ZH5q6WMjI-va"
      }
    },
    {
      "cell_type": "code",
      "source": [
        "import pandas as pd"
      ],
      "metadata": {
        "id": "hkAEffe7E5Gp"
      },
      "execution_count": 48,
      "outputs": []
    },
    {
      "cell_type": "markdown",
      "source": [
        "  3. Import library math"
      ],
      "metadata": {
        "id": "JoGKKhdKJCkb"
      }
    },
    {
      "cell_type": "code",
      "source": [
        "import math"
      ],
      "metadata": {
        "id": "KBrokh9AE7k5"
      },
      "execution_count": 49,
      "outputs": []
    },
    {
      "cell_type": "markdown",
      "source": [
        "4. Import library untuk plot grafik"
      ],
      "metadata": {
        "id": "rbcXlLBkJEVo"
      }
    },
    {
      "cell_type": "code",
      "source": [
        "import matplotlib.pyplot as plt"
      ],
      "metadata": {
        "id": "tY3JguYlE9M4"
      },
      "execution_count": 50,
      "outputs": []
    },
    {
      "cell_type": "markdown",
      "source": [
        "  5. Import drive untuk mengakses file\n"
      ],
      "metadata": {
        "id": "zUGiCM2RJL2I"
      }
    },
    {
      "cell_type": "code",
      "source": [
        "from google.colab import drive\n",
        "drive.mount('/content/drive')"
      ],
      "metadata": {
        "id": "F0cbRqtUE_BP",
        "colab": {
          "base_uri": "https://localhost:8080/"
        },
        "outputId": "bd38d33b-ca80-4b92-8598-7269aad7aab5"
      },
      "execution_count": 51,
      "outputs": [
        {
          "output_type": "stream",
          "name": "stdout",
          "text": [
            "Drive already mounted at /content/drive; to attempt to forcibly remount, call drive.mount(\"/content/drive\", force_remount=True).\n"
          ]
        }
      ]
    },
    {
      "cell_type": "markdown",
      "source": [
        "**6**. Upload file excel ke dalam session storage"
      ],
      "metadata": {
        "id": "_sW0_DY1JRr6"
      }
    },
    {
      "cell_type": "markdown",
      "source": [
        "*7*. Simpan file Excel tersebut dalam variabel dengan nama data_ekspor\n"
      ],
      "metadata": {
        "id": "4E-98J9wJUB0"
      }
    },
    {
      "cell_type": "code",
      "source": [
        "data_telur=pd.read_excel('/content/data_telur_surabaya.xlsx')"
      ],
      "metadata": {
        "id": "S_r-4OUOFBPB"
      },
      "execution_count": 52,
      "outputs": []
    },
    {
      "cell_type": "markdown",
      "source": [
        "8. Tampilkan head dari data tersebut"
      ],
      "metadata": {
        "id": "e-yo4WwhJkqQ"
      }
    },
    {
      "cell_type": "code",
      "source": [
        "data_telur.head()"
      ],
      "metadata": {
        "id": "Keu1pJ5QFGH-",
        "colab": {
          "base_uri": "https://localhost:8080/",
          "height": 206
        },
        "outputId": "f0bc7fe2-b083-49b9-dbe6-c43792dba784"
      },
      "execution_count": 53,
      "outputs": [
        {
          "output_type": "execute_result",
          "data": {
            "text/plain": [
              "   Data  Harga\n",
              "0     1  27400\n",
              "1     2  27800\n",
              "2     3  27850\n",
              "3     4  27800\n",
              "4     5  27700"
            ],
            "text/html": [
              "\n",
              "  <div id=\"df-695463c8-d434-477c-9967-c0bd87ee1a1e\" class=\"colab-df-container\">\n",
              "    <div>\n",
              "<style scoped>\n",
              "    .dataframe tbody tr th:only-of-type {\n",
              "        vertical-align: middle;\n",
              "    }\n",
              "\n",
              "    .dataframe tbody tr th {\n",
              "        vertical-align: top;\n",
              "    }\n",
              "\n",
              "    .dataframe thead th {\n",
              "        text-align: right;\n",
              "    }\n",
              "</style>\n",
              "<table border=\"1\" class=\"dataframe\">\n",
              "  <thead>\n",
              "    <tr style=\"text-align: right;\">\n",
              "      <th></th>\n",
              "      <th>Data</th>\n",
              "      <th>Harga</th>\n",
              "    </tr>\n",
              "  </thead>\n",
              "  <tbody>\n",
              "    <tr>\n",
              "      <th>0</th>\n",
              "      <td>1</td>\n",
              "      <td>27400</td>\n",
              "    </tr>\n",
              "    <tr>\n",
              "      <th>1</th>\n",
              "      <td>2</td>\n",
              "      <td>27800</td>\n",
              "    </tr>\n",
              "    <tr>\n",
              "      <th>2</th>\n",
              "      <td>3</td>\n",
              "      <td>27850</td>\n",
              "    </tr>\n",
              "    <tr>\n",
              "      <th>3</th>\n",
              "      <td>4</td>\n",
              "      <td>27800</td>\n",
              "    </tr>\n",
              "    <tr>\n",
              "      <th>4</th>\n",
              "      <td>5</td>\n",
              "      <td>27700</td>\n",
              "    </tr>\n",
              "  </tbody>\n",
              "</table>\n",
              "</div>\n",
              "    <div class=\"colab-df-buttons\">\n",
              "\n",
              "  <div class=\"colab-df-container\">\n",
              "    <button class=\"colab-df-convert\" onclick=\"convertToInteractive('df-695463c8-d434-477c-9967-c0bd87ee1a1e')\"\n",
              "            title=\"Convert this dataframe to an interactive table.\"\n",
              "            style=\"display:none;\">\n",
              "\n",
              "  <svg xmlns=\"http://www.w3.org/2000/svg\" height=\"24px\" viewBox=\"0 -960 960 960\">\n",
              "    <path d=\"M120-120v-720h720v720H120Zm60-500h600v-160H180v160Zm220 220h160v-160H400v160Zm0 220h160v-160H400v160ZM180-400h160v-160H180v160Zm440 0h160v-160H620v160ZM180-180h160v-160H180v160Zm440 0h160v-160H620v160Z\"/>\n",
              "  </svg>\n",
              "    </button>\n",
              "\n",
              "  <style>\n",
              "    .colab-df-container {\n",
              "      display:flex;\n",
              "      gap: 12px;\n",
              "    }\n",
              "\n",
              "    .colab-df-convert {\n",
              "      background-color: #E8F0FE;\n",
              "      border: none;\n",
              "      border-radius: 50%;\n",
              "      cursor: pointer;\n",
              "      display: none;\n",
              "      fill: #1967D2;\n",
              "      height: 32px;\n",
              "      padding: 0 0 0 0;\n",
              "      width: 32px;\n",
              "    }\n",
              "\n",
              "    .colab-df-convert:hover {\n",
              "      background-color: #E2EBFA;\n",
              "      box-shadow: 0px 1px 2px rgba(60, 64, 67, 0.3), 0px 1px 3px 1px rgba(60, 64, 67, 0.15);\n",
              "      fill: #174EA6;\n",
              "    }\n",
              "\n",
              "    .colab-df-buttons div {\n",
              "      margin-bottom: 4px;\n",
              "    }\n",
              "\n",
              "    [theme=dark] .colab-df-convert {\n",
              "      background-color: #3B4455;\n",
              "      fill: #D2E3FC;\n",
              "    }\n",
              "\n",
              "    [theme=dark] .colab-df-convert:hover {\n",
              "      background-color: #434B5C;\n",
              "      box-shadow: 0px 1px 3px 1px rgba(0, 0, 0, 0.15);\n",
              "      filter: drop-shadow(0px 1px 2px rgba(0, 0, 0, 0.3));\n",
              "      fill: #FFFFFF;\n",
              "    }\n",
              "  </style>\n",
              "\n",
              "    <script>\n",
              "      const buttonEl =\n",
              "        document.querySelector('#df-695463c8-d434-477c-9967-c0bd87ee1a1e button.colab-df-convert');\n",
              "      buttonEl.style.display =\n",
              "        google.colab.kernel.accessAllowed ? 'block' : 'none';\n",
              "\n",
              "      async function convertToInteractive(key) {\n",
              "        const element = document.querySelector('#df-695463c8-d434-477c-9967-c0bd87ee1a1e');\n",
              "        const dataTable =\n",
              "          await google.colab.kernel.invokeFunction('convertToInteractive',\n",
              "                                                    [key], {});\n",
              "        if (!dataTable) return;\n",
              "\n",
              "        const docLinkHtml = 'Like what you see? Visit the ' +\n",
              "          '<a target=\"_blank\" href=https://colab.research.google.com/notebooks/data_table.ipynb>data table notebook</a>'\n",
              "          + ' to learn more about interactive tables.';\n",
              "        element.innerHTML = '';\n",
              "        dataTable['output_type'] = 'display_data';\n",
              "        await google.colab.output.renderOutput(dataTable, element);\n",
              "        const docLink = document.createElement('div');\n",
              "        docLink.innerHTML = docLinkHtml;\n",
              "        element.appendChild(docLink);\n",
              "      }\n",
              "    </script>\n",
              "  </div>\n",
              "\n",
              "\n",
              "<div id=\"df-8b5a996d-9b3f-494d-8a10-0265be96016f\">\n",
              "  <button class=\"colab-df-quickchart\" onclick=\"quickchart('df-8b5a996d-9b3f-494d-8a10-0265be96016f')\"\n",
              "            title=\"Suggest charts\"\n",
              "            style=\"display:none;\">\n",
              "\n",
              "<svg xmlns=\"http://www.w3.org/2000/svg\" height=\"24px\"viewBox=\"0 0 24 24\"\n",
              "     width=\"24px\">\n",
              "    <g>\n",
              "        <path d=\"M19 3H5c-1.1 0-2 .9-2 2v14c0 1.1.9 2 2 2h14c1.1 0 2-.9 2-2V5c0-1.1-.9-2-2-2zM9 17H7v-7h2v7zm4 0h-2V7h2v10zm4 0h-2v-4h2v4z\"/>\n",
              "    </g>\n",
              "</svg>\n",
              "  </button>\n",
              "\n",
              "<style>\n",
              "  .colab-df-quickchart {\n",
              "      --bg-color: #E8F0FE;\n",
              "      --fill-color: #1967D2;\n",
              "      --hover-bg-color: #E2EBFA;\n",
              "      --hover-fill-color: #174EA6;\n",
              "      --disabled-fill-color: #AAA;\n",
              "      --disabled-bg-color: #DDD;\n",
              "  }\n",
              "\n",
              "  [theme=dark] .colab-df-quickchart {\n",
              "      --bg-color: #3B4455;\n",
              "      --fill-color: #D2E3FC;\n",
              "      --hover-bg-color: #434B5C;\n",
              "      --hover-fill-color: #FFFFFF;\n",
              "      --disabled-bg-color: #3B4455;\n",
              "      --disabled-fill-color: #666;\n",
              "  }\n",
              "\n",
              "  .colab-df-quickchart {\n",
              "    background-color: var(--bg-color);\n",
              "    border: none;\n",
              "    border-radius: 50%;\n",
              "    cursor: pointer;\n",
              "    display: none;\n",
              "    fill: var(--fill-color);\n",
              "    height: 32px;\n",
              "    padding: 0;\n",
              "    width: 32px;\n",
              "  }\n",
              "\n",
              "  .colab-df-quickchart:hover {\n",
              "    background-color: var(--hover-bg-color);\n",
              "    box-shadow: 0 1px 2px rgba(60, 64, 67, 0.3), 0 1px 3px 1px rgba(60, 64, 67, 0.15);\n",
              "    fill: var(--button-hover-fill-color);\n",
              "  }\n",
              "\n",
              "  .colab-df-quickchart-complete:disabled,\n",
              "  .colab-df-quickchart-complete:disabled:hover {\n",
              "    background-color: var(--disabled-bg-color);\n",
              "    fill: var(--disabled-fill-color);\n",
              "    box-shadow: none;\n",
              "  }\n",
              "\n",
              "  .colab-df-spinner {\n",
              "    border: 2px solid var(--fill-color);\n",
              "    border-color: transparent;\n",
              "    border-bottom-color: var(--fill-color);\n",
              "    animation:\n",
              "      spin 1s steps(1) infinite;\n",
              "  }\n",
              "\n",
              "  @keyframes spin {\n",
              "    0% {\n",
              "      border-color: transparent;\n",
              "      border-bottom-color: var(--fill-color);\n",
              "      border-left-color: var(--fill-color);\n",
              "    }\n",
              "    20% {\n",
              "      border-color: transparent;\n",
              "      border-left-color: var(--fill-color);\n",
              "      border-top-color: var(--fill-color);\n",
              "    }\n",
              "    30% {\n",
              "      border-color: transparent;\n",
              "      border-left-color: var(--fill-color);\n",
              "      border-top-color: var(--fill-color);\n",
              "      border-right-color: var(--fill-color);\n",
              "    }\n",
              "    40% {\n",
              "      border-color: transparent;\n",
              "      border-right-color: var(--fill-color);\n",
              "      border-top-color: var(--fill-color);\n",
              "    }\n",
              "    60% {\n",
              "      border-color: transparent;\n",
              "      border-right-color: var(--fill-color);\n",
              "    }\n",
              "    80% {\n",
              "      border-color: transparent;\n",
              "      border-right-color: var(--fill-color);\n",
              "      border-bottom-color: var(--fill-color);\n",
              "    }\n",
              "    90% {\n",
              "      border-color: transparent;\n",
              "      border-bottom-color: var(--fill-color);\n",
              "    }\n",
              "  }\n",
              "</style>\n",
              "\n",
              "  <script>\n",
              "    async function quickchart(key) {\n",
              "      const quickchartButtonEl =\n",
              "        document.querySelector('#' + key + ' button');\n",
              "      quickchartButtonEl.disabled = true;  // To prevent multiple clicks.\n",
              "      quickchartButtonEl.classList.add('colab-df-spinner');\n",
              "      try {\n",
              "        const charts = await google.colab.kernel.invokeFunction(\n",
              "            'suggestCharts', [key], {});\n",
              "      } catch (error) {\n",
              "        console.error('Error during call to suggestCharts:', error);\n",
              "      }\n",
              "      quickchartButtonEl.classList.remove('colab-df-spinner');\n",
              "      quickchartButtonEl.classList.add('colab-df-quickchart-complete');\n",
              "    }\n",
              "    (() => {\n",
              "      let quickchartButtonEl =\n",
              "        document.querySelector('#df-8b5a996d-9b3f-494d-8a10-0265be96016f button');\n",
              "      quickchartButtonEl.style.display =\n",
              "        google.colab.kernel.accessAllowed ? 'block' : 'none';\n",
              "    })();\n",
              "  </script>\n",
              "</div>\n",
              "    </div>\n",
              "  </div>\n"
            ]
          },
          "metadata": {},
          "execution_count": 53
        }
      ]
    },
    {
      "cell_type": "markdown",
      "source": [
        "9. Deklarasikan variabel x dari header \"Data Ke\""
      ],
      "metadata": {
        "id": "l2kbIkjcJtFn"
      }
    },
    {
      "cell_type": "code",
      "source": [
        "x=data_telur['Data']\n",
        "x"
      ],
      "metadata": {
        "id": "bTEOgv7OFIHW",
        "colab": {
          "base_uri": "https://localhost:8080/"
        },
        "outputId": "cea53357-770d-4049-fba4-d44b48dc55a6"
      },
      "execution_count": 54,
      "outputs": [
        {
          "output_type": "execute_result",
          "data": {
            "text/plain": [
              "0       1\n",
              "1       2\n",
              "2       3\n",
              "3       4\n",
              "4       5\n",
              "     ... \n",
              "95     96\n",
              "96     97\n",
              "97     98\n",
              "98     99\n",
              "99    100\n",
              "Name: Data, Length: 100, dtype: int64"
            ]
          },
          "metadata": {},
          "execution_count": 54
        }
      ]
    },
    {
      "cell_type": "markdown",
      "source": [
        "10. Deklarasikan variabel y dari header \"Harga\"\n"
      ],
      "metadata": {
        "id": "flVrgvxRJvF8"
      }
    },
    {
      "cell_type": "code",
      "source": [
        "y=data_telur['Harga']\n",
        "y"
      ],
      "metadata": {
        "id": "t2IHOpz1FKA9",
        "colab": {
          "base_uri": "https://localhost:8080/"
        },
        "outputId": "c0dc1564-7a4c-49f8-c8d6-55ab4d69f222"
      },
      "execution_count": 55,
      "outputs": [
        {
          "output_type": "execute_result",
          "data": {
            "text/plain": [
              "0     27400\n",
              "1     27800\n",
              "2     27850\n",
              "3     27800\n",
              "4     27700\n",
              "      ...  \n",
              "95    28100\n",
              "96    29000\n",
              "97    30050\n",
              "98    30350\n",
              "99    30100\n",
              "Name: Harga, Length: 100, dtype: int64"
            ]
          },
          "metadata": {},
          "execution_count": 55
        }
      ]
    },
    {
      "cell_type": "markdown",
      "source": [
        "11. Mencari interpolasi linear pada data yang kosong y di variabel x dengan index 82"
      ],
      "metadata": {
        "id": "G3gsNqNkJ1nQ"
      }
    },
    {
      "cell_type": "code",
      "source": [
        "# Mencari Interpolosai Linear\n",
        "\n",
        "print(f\" {y[80]} + (( {y[82]} - {y[80]}) / ({x[82]} - {x[80]})) * ({x[81]} - {x[80]})\")\n",
        "\n",
        "resultOfInterpolationLinear = y[80] + (( y[82] - y[80]) / (x[82] - x[80])) * (x[81] - x[80])\n",
        "\n",
        "resultOfInterpolationLinear"
      ],
      "metadata": {
        "colab": {
          "base_uri": "https://localhost:8080/"
        },
        "id": "WtP6ip2FGY6o",
        "outputId": "f326d51f-ff5d-4d1b-9996-8186ddaff979"
      },
      "execution_count": 56,
      "outputs": [
        {
          "output_type": "stream",
          "name": "stdout",
          "text": [
            " 27100 + (( 26500 - 27100) / (83 - 81)) * (82 - 81)\n"
          ]
        },
        {
          "output_type": "execute_result",
          "data": {
            "text/plain": [
              "26800.0"
            ]
          },
          "metadata": {},
          "execution_count": 56
        }
      ]
    },
    {
      "cell_type": "markdown",
      "source": [
        "12. Mengcek terlebih dahulu apakah benar data y pada index 82 itu kosong atau tidak ? jika iya maka assign dan carilah RKT Linear"
      ],
      "metadata": {
        "id": "AX2qSGq2KpZ1"
      }
    },
    {
      "cell_type": "code",
      "source": [
        "print(f\"is it 0 ? = {y[81]}\")\n",
        "\n",
        "y[81] = resultOfInterpolationLinear\n",
        "\n",
        "y[81]"
      ],
      "metadata": {
        "colab": {
          "base_uri": "https://localhost:8080/"
        },
        "id": "LOiADMRIGbm6",
        "outputId": "38074d01-d416-4a3d-8742-60b07ca66e5c"
      },
      "execution_count": 57,
      "outputs": [
        {
          "output_type": "stream",
          "name": "stdout",
          "text": [
            "is it 0 ? = 0\n"
          ]
        },
        {
          "output_type": "execute_result",
          "data": {
            "text/plain": [
              "26800"
            ]
          },
          "metadata": {},
          "execution_count": 57
        }
      ]
    },
    {
      "cell_type": "markdown",
      "source": [
        "13. Print semua data untuk memastikan lagi"
      ],
      "metadata": {
        "id": "uMJaBFdJK3l3"
      }
    },
    {
      "cell_type": "code",
      "source": [
        "singbox = 1\n",
        "for harganya in data_telur['Harga']:\n",
        "  print(f\"{singbox} . {harganya}\")\n",
        "  singbox += 1"
      ],
      "metadata": {
        "colab": {
          "base_uri": "https://localhost:8080/"
        },
        "id": "CpPeLJnIG257",
        "outputId": "d950b4ed-04c1-4647-f50b-7821efc72c47"
      },
      "execution_count": 58,
      "outputs": [
        {
          "output_type": "stream",
          "name": "stdout",
          "text": [
            "1 . 27400\n",
            "2 . 27800\n",
            "3 . 27850\n",
            "4 . 27800\n",
            "5 . 27700\n",
            "6 . 27700\n",
            "7 . 28000\n",
            "8 . 28000\n",
            "9 . 28450\n",
            "10 . 28450\n",
            "11 . 28200\n",
            "12 . 27950\n",
            "13 . 27500\n",
            "14 . 27200\n",
            "15 . 27100\n",
            "16 . 27100\n",
            "17 . 27100\n",
            "18 . 27100\n",
            "19 . 27100\n",
            "20 . 28400\n",
            "21 . 28400\n",
            "22 . 28200\n",
            "23 . 28300\n",
            "24 . 28350\n",
            "25 . 28300\n",
            "26 . 28100\n",
            "27 . 28000\n",
            "28 . 27950\n",
            "29 . 27750\n",
            "30 . 27550\n",
            "31 . 27200\n",
            "32 . 26950\n",
            "33 . 26800\n",
            "34 . 26600\n",
            "35 . 26400\n",
            "36 . 26200\n",
            "37 . 26450\n",
            "38 . 26800\n",
            "39 . 26950\n",
            "40 . 27150\n",
            "41 . 27550\n",
            "42 . 27800\n",
            "43 . 28250\n",
            "44 . 28850\n",
            "45 . 29350\n",
            "46 . 29650\n",
            "47 . 9500\n",
            "48 . 29200\n",
            "49 . 29100\n",
            "50 . 28550\n",
            "51 . 28150\n",
            "52 . 27750\n",
            "53 . 27600\n",
            "54 . 27800\n",
            "55 . 27600\n",
            "56 . 27550\n",
            "57 . 27600\n",
            "58 . 27350\n",
            "59 . 27250\n",
            "60 . 27100\n",
            "61 . 27250\n",
            "62 . 27350\n",
            "63 . 27250\n",
            "64 . 27350\n",
            "65 . 27450\n",
            "66 . 27400\n",
            "67 . 27550\n",
            "68 . 27800\n",
            "69 . 27800\n",
            "70 . 27700\n",
            "71 . 27650\n",
            "72 . 27550\n",
            "73 . 27400\n",
            "74 . 27450\n",
            "75 . 27550\n",
            "76 . 27850\n",
            "77 . 28000\n",
            "78 . 27950\n",
            "79 . 27700\n",
            "80 . 27350\n",
            "81 . 27100\n",
            "82 . 26800\n",
            "83 . 26500\n",
            "84 . 26150\n",
            "85 . 25950\n",
            "86 . 25850\n",
            "87 . 25800\n",
            "88 . 25750\n",
            "89 . 25850\n",
            "90 . 26300\n",
            "91 . 27000\n",
            "92 . 27450\n",
            "93 . 27450\n",
            "94 . 27300\n",
            "95 . 27300\n",
            "96 . 28100\n",
            "97 . 29000\n",
            "98 . 30050\n",
            "99 . 30350\n",
            "100 . 30100\n"
          ]
        }
      ]
    },
    {
      "cell_type": "markdown",
      "source": [
        "B. Perhitungan RKT Linear"
      ],
      "metadata": {
        "id": "LLZ9mpIJISYn"
      }
    },
    {
      "cell_type": "code",
      "source": [
        "x=data_telur['Data']\n",
        "y=data_telur['Harga']\n",
        "rata_x=np.mean(x)\n",
        "rata_y=np.mean(y)\n",
        "print(\"Nilai rata-rata dari x=\",rata_x)\n",
        "print(\"Nilai rata-rata dari y=\",rata_y)"
      ],
      "metadata": {
        "colab": {
          "base_uri": "https://localhost:8080/"
        },
        "id": "qv4ZSIP7IX63",
        "outputId": "bc001f85-4e5a-4087-a6ea-24b1ab1a2448"
      },
      "execution_count": 59,
      "outputs": [
        {
          "output_type": "stream",
          "name": "stdout",
          "text": [
            "Nilai rata-rata dari x= 50.5\n",
            "Nilai rata-rata dari y= 27433.5\n"
          ]
        }
      ]
    },
    {
      "cell_type": "code",
      "source": [
        "n=len(x)\n",
        "xy=0\n",
        "sigma_x=0\n",
        "sigma_y=0\n",
        "x2=0\n",
        "\n",
        "for i in range(n) :\n",
        "  xy += x[i]*y[i]\n",
        "  sigma_x += x[i]\n",
        "  sigma_y += y[i]\n",
        "  x2 += x[i]**2\n",
        "\n",
        "print(\"Nilai xy = \",xy)\n",
        "print(\"Nilai sigma x =\",sigma_x)\n",
        "print(\"Nilai sigma y =\",sigma_y)\n",
        "print(\"Sigma x kuadrat =\",x2)\n",
        "\n",
        "atas=(n*xy)-(sigma_x*sigma_y)\n",
        "bawah=(n*x2)-((sigma_x)**2)\n",
        "b=atas/bawah\n",
        "print(\"Nilai b =\",b)\n",
        "a=rata_y-(b*rata_x)\n",
        "print(\"Nilai a =\",a)\n",
        "RKT_y=a+b*x\n",
        "print(\"Nilai fungsi =\",RKT_y)"
      ],
      "metadata": {
        "colab": {
          "base_uri": "https://localhost:8080/"
        },
        "id": "s7PgXqK2IdGb",
        "outputId": "a4cf301c-38a2-44b5-9d94-fc968eef8709"
      },
      "execution_count": 60,
      "outputs": [
        {
          "output_type": "stream",
          "name": "stdout",
          "text": [
            "Nilai xy =  138360000\n",
            "Nilai sigma x = 5050\n",
            "Nilai sigma y = 2743350\n",
            "Sigma x kuadrat = 338350\n",
            "Nilai b = -2.1503150315031503\n",
            "Nilai a = 27542.090909090908\n",
            "Nilai fungsi = 0     27539.940594\n",
            "1     27537.790279\n",
            "2     27535.639964\n",
            "3     27533.489649\n",
            "4     27531.339334\n",
            "          ...     \n",
            "95    27335.660666\n",
            "96    27333.510351\n",
            "97    27331.360036\n",
            "98    27329.209721\n",
            "99    27327.059406\n",
            "Name: Data, Length: 100, dtype: float64\n"
          ]
        }
      ]
    },
    {
      "cell_type": "code",
      "source": [
        "#Scatter plot untuk data asli\n",
        "plt.scatter(x,y)\n",
        "\n",
        "#Grafik RKT\n",
        "plt.plot(x,RKT_y)\n",
        "plt.title('Regresi Kuadrat Terkecil (Linier)')\n",
        "plt.xlabel('Data')\n",
        "plt.ylabel('Harga')\n",
        "plt.legend(['Real','RKT Linier'])\n",
        "plt.show()"
      ],
      "metadata": {
        "colab": {
          "base_uri": "https://localhost:8080/",
          "height": 472
        },
        "id": "_UKRz2yZIgIO",
        "outputId": "6fc30ead-ddf5-4db8-d21f-4dc808272737"
      },
      "execution_count": 61,
      "outputs": [
        {
          "output_type": "display_data",
          "data": {
            "text/plain": [
              "<Figure size 640x480 with 1 Axes>"
            ],
            "image/png": "[encoded data removed]"
          },
          "metadata": {}
        }
      ]
    },
    {
      "cell_type": "markdown",
      "source": [
        "*C*. Koefisien Korelasi"
      ],
      "metadata": {
        "id": "aWdQXFreIl6Z"
      }
    },
    {
      "cell_type": "code",
      "source": [
        "Dt2=0\n",
        "D2=0\n",
        "\n",
        "for j in range(n) :\n",
        "  Dt2 += (y[j]-rata_y)**2\n",
        "  D2 += (y[j]-a-b*x[j])**2\n",
        "\n",
        "r2=(Dt2-D2)/Dt2\n",
        "print(\"Nilai koefisien korelasi=\",r2)"
      ],
      "metadata": {
        "colab": {
          "base_uri": "https://localhost:8080/"
        },
        "id": "T00-sWHzIpsd",
        "outputId": "f6d68eaf-85e1-43be-e7b1-d5ac27e4ba4a"
      },
      "execution_count": 62,
      "outputs": [
        {
          "output_type": "stream",
          "name": "stdout",
          "text": [
            "Nilai koefisien korelasi= 0.0009596314525170684\n"
          ]
        }
      ]
    }
  ]
}