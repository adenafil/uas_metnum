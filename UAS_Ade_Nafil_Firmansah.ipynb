{
  "nbformat": 4,
  "nbformat_minor": 0,
  "metadata": {
    "colab": {
      "provenance": [],
      "authorship_tag": "ABX9TyMlBAPw3+zOjrdEc3BvsjTp",
      "include_colab_link": true
    },
    "kernelspec": {
      "name": "python3",
      "display_name": "Python 3"
    },
    "language_info": {
      "name": "python"
    }
  },
  "cells": [
    {
      "cell_type": "markdown",
      "metadata": {
        "id": "view-in-github",
        "colab_type": "text"
      },
      "source": [
        "<a href=\"https://colab.research.google.com/github/adenafil/uas_metnum/blob/main/UAS_Ade_Nafil_Firmansah.ipynb\" target=\"_parent\"><img src=\"https://colab.research.google.com/assets/colab-badge.svg\" alt=\"Open In Colab\"/></a>"
      ]
    },
    {
      "cell_type": "markdown",
      "source": [
        "A. Persiapan Data\n",
        "\n",
        "  1. Import library Numerical Python (Numpy)"
      ],
      "metadata": {
        "id": "KmeO-4Zi4uKP"
      }
    },
    {
      "cell_type": "code",
      "source": [
        "import numpy as np"
      ],
      "metadata": {
        "id": "S86_2IA-5HTn"
      },
      "execution_count": 2,
      "outputs": []
    },
    {
      "cell_type": "markdown",
      "source": [
        "  2. Import library pandas"
      ],
      "metadata": {
        "id": "8jfByqhE5Lcl"
      }
    },
    {
      "cell_type": "code",
      "source": [
        "import pandas as pd"
      ],
      "metadata": {
        "id": "9dMTibkk5Rr3"
      },
      "execution_count": 3,
      "outputs": []
    },
    {
      "cell_type": "markdown",
      "source": [
        "  3. Import library math"
      ],
      "metadata": {
        "id": "e2ODz5RK5VMz"
      }
    },
    {
      "cell_type": "code",
      "source": [
        "import math"
      ],
      "metadata": {
        "id": "BII0cAXD5Y9U"
      },
      "execution_count": 4,
      "outputs": []
    },
    {
      "cell_type": "markdown",
      "source": [
        "4. Import library untuk plot grafik"
      ],
      "metadata": {
        "id": "_poxLHqLVVgO"
      }
    },
    {
      "cell_type": "code",
      "source": [
        "import matplotlib.pyplot as plt"
      ],
      "metadata": {
        "id": "WIOD_0fyVWww"
      },
      "execution_count": 5,
      "outputs": []
    },
    {
      "cell_type": "markdown",
      "source": [
        "  5. Import drive untuk mengakses file\n"
      ],
      "metadata": {
        "id": "RQsdpKSnVazR"
      }
    },
    {
      "cell_type": "code",
      "source": [
        "from google.colab import drive\n",
        "drive.mount('/content/drive')"
      ],
      "metadata": {
        "colab": {
          "base_uri": "https://localhost:8080/"
        },
        "id": "2iGfqb2LVe7m",
        "outputId": "8b7724b2-30f4-438b-b11e-ec1b5d727c63"
      },
      "execution_count": 6,
      "outputs": [
        {
          "output_type": "stream",
          "name": "stdout",
          "text": [
            "Mounted at /content/drive\n"
          ]
        }
      ]
    },
    {
      "cell_type": "markdown",
      "source": [
        "6. Upload file excel ke dalam session storage"
      ],
      "metadata": {
        "id": "4lzbihH8Vkve"
      }
    },
    {
      "cell_type": "markdown",
      "source": [
        "7. Simpan file Excel tersebut dalam variabel dengan nama data_ekspor\n"
      ],
      "metadata": {
        "id": "Hv4E3y2-V8M4"
      }
    },
    {
      "cell_type": "code",
      "source": [
        "data_telur=pd.read_excel('/content/data_telur_surabaya.xlsx')"
      ],
      "metadata": {
        "id": "IQhjTTl3WMVK"
      },
      "execution_count": 7,
      "outputs": []
    },
    {
      "cell_type": "markdown",
      "source": [
        "8. Tampilkan head dari data tersebut"
      ],
      "metadata": {
        "id": "G7kvvTqbWU_2"
      }
    },
    {
      "cell_type": "code",
      "source": [
        "data_telur.head()"
      ],
      "metadata": {
        "colab": {
          "base_uri": "https://localhost:8080/",
          "height": 206
        },
        "id": "l8xviJM4WWR_",
        "outputId": "ad98454a-9393-43c7-9ff2-9c7853730142"
      },
      "execution_count": 8,
      "outputs": [
        {
          "output_type": "execute_result",
          "data": {
            "text/plain": [
              "   Data  Harga\n",
              "0     1  27400\n",
              "1     2  27800\n",
              "2     3  27850\n",
              "3     4  27800\n",
              "4     5  27700"
            ],
            "text/html": [
              "\n",
              "  <div id=\"df-053ecdfc-7829-4625-a23c-511348088e32\" class=\"colab-df-container\">\n",
              "    <div>\n",
              "<style scoped>\n",
              "    .dataframe tbody tr th:only-of-type {\n",
              "        vertical-align: middle;\n",
              "    }\n",
              "\n",
              "    .dataframe tbody tr th {\n",
              "        vertical-align: top;\n",
              "    }\n",
              "\n",
              "    .dataframe thead th {\n",
              "        text-align: right;\n",
              "    }\n",
              "</style>\n",
              "<table border=\"1\" class=\"dataframe\">\n",
              "  <thead>\n",
              "    <tr style=\"text-align: right;\">\n",
              "      <th></th>\n",
              "      <th>Data</th>\n",
              "      <th>Harga</th>\n",
              "    </tr>\n",
              "  </thead>\n",
              "  <tbody>\n",
              "    <tr>\n",
              "      <th>0</th>\n",
              "      <td>1</td>\n",
              "      <td>27400</td>\n",
              "    </tr>\n",
              "    <tr>\n",
              "      <th>1</th>\n",
              "      <td>2</td>\n",
              "      <td>27800</td>\n",
              "    </tr>\n",
              "    <tr>\n",
              "      <th>2</th>\n",
              "      <td>3</td>\n",
              "      <td>27850</td>\n",
              "    </tr>\n",
              "    <tr>\n",
              "      <th>3</th>\n",
              "      <td>4</td>\n",
              "      <td>27800</td>\n",
              "    </tr>\n",
              "    <tr>\n",
              "      <th>4</th>\n",
              "      <td>5</td>\n",
              "      <td>27700</td>\n",
              "    </tr>\n",
              "  </tbody>\n",
              "</table>\n",
              "</div>\n",
              "    <div class=\"colab-df-buttons\">\n",
              "\n",
              "  <div class=\"colab-df-container\">\n",
              "    <button class=\"colab-df-convert\" onclick=\"convertToInteractive('df-053ecdfc-7829-4625-a23c-511348088e32')\"\n",
              "            title=\"Convert this dataframe to an interactive table.\"\n",
              "            style=\"display:none;\">\n",
              "\n",
              "  <svg xmlns=\"http://www.w3.org/2000/svg\" height=\"24px\" viewBox=\"0 -960 960 960\">\n",
              "    <path d=\"M120-120v-720h720v720H120Zm60-500h600v-160H180v160Zm220 220h160v-160H400v160Zm0 220h160v-160H400v160ZM180-400h160v-160H180v160Zm440 0h160v-160H620v160ZM180-180h160v-160H180v160Zm440 0h160v-160H620v160Z\"/>\n",
              "  </svg>\n",
              "    </button>\n",
              "\n",
              "  <style>\n",
              "    .colab-df-container {\n",
              "      display:flex;\n",
              "      gap: 12px;\n",
              "    }\n",
              "\n",
              "    .colab-df-convert {\n",
              "      background-color: #E8F0FE;\n",
              "      border: none;\n",
              "      border-radius: 50%;\n",
              "      cursor: pointer;\n",
              "      display: none;\n",
              "      fill: #1967D2;\n",
              "      height: 32px;\n",
              "      padding: 0 0 0 0;\n",
              "      width: 32px;\n",
              "    }\n",
              "\n",
              "    .colab-df-convert:hover {\n",
              "      background-color: #E2EBFA;\n",
              "      box-shadow: 0px 1px 2px rgba(60, 64, 67, 0.3), 0px 1px 3px 1px rgba(60, 64, 67, 0.15);\n",
              "      fill: #174EA6;\n",
              "    }\n",
              "\n",
              "    .colab-df-buttons div {\n",
              "      margin-bottom: 4px;\n",
              "    }\n",
              "\n",
              "    [theme=dark] .colab-df-convert {\n",
              "      background-color: #3B4455;\n",
              "      fill: #D2E3FC;\n",
              "    }\n",
              "\n",
              "    [theme=dark] .colab-df-convert:hover {\n",
              "      background-color: #434B5C;\n",
              "      box-shadow: 0px 1px 3px 1px rgba(0, 0, 0, 0.15);\n",
              "      filter: drop-shadow(0px 1px 2px rgba(0, 0, 0, 0.3));\n",
              "      fill: #FFFFFF;\n",
              "    }\n",
              "  </style>\n",
              "\n",
              "    <script>\n",
              "      const buttonEl =\n",
              "        document.querySelector('#df-053ecdfc-7829-4625-a23c-511348088e32 button.colab-df-convert');\n",
              "      buttonEl.style.display =\n",
              "        google.colab.kernel.accessAllowed ? 'block' : 'none';\n",
              "\n",
              "      async function convertToInteractive(key) {\n",
              "        const element = document.querySelector('#df-053ecdfc-7829-4625-a23c-511348088e32');\n",
              "        const dataTable =\n",
              "          await google.colab.kernel.invokeFunction('convertToInteractive',\n",
              "                                                    [key], {});\n",
              "        if (!dataTable) return;\n",
              "\n",
              "        const docLinkHtml = 'Like what you see? Visit the ' +\n",
              "          '<a target=\"_blank\" href=https://colab.research.google.com/notebooks/data_table.ipynb>data table notebook</a>'\n",
              "          + ' to learn more about interactive tables.';\n",
              "        element.innerHTML = '';\n",
              "        dataTable['output_type'] = 'display_data';\n",
              "        await google.colab.output.renderOutput(dataTable, element);\n",
              "        const docLink = document.createElement('div');\n",
              "        docLink.innerHTML = docLinkHtml;\n",
              "        element.appendChild(docLink);\n",
              "      }\n",
              "    </script>\n",
              "  </div>\n",
              "\n",
              "\n",
              "<div id=\"df-53e8c4f0-0799-4d81-95d0-56895afd7916\">\n",
              "  <button class=\"colab-df-quickchart\" onclick=\"quickchart('df-53e8c4f0-0799-4d81-95d0-56895afd7916')\"\n",
              "            title=\"Suggest charts\"\n",
              "            style=\"display:none;\">\n",
              "\n",
              "<svg xmlns=\"http://www.w3.org/2000/svg\" height=\"24px\"viewBox=\"0 0 24 24\"\n",
              "     width=\"24px\">\n",
              "    <g>\n",
              "        <path d=\"M19 3H5c-1.1 0-2 .9-2 2v14c0 1.1.9 2 2 2h14c1.1 0 2-.9 2-2V5c0-1.1-.9-2-2-2zM9 17H7v-7h2v7zm4 0h-2V7h2v10zm4 0h-2v-4h2v4z\"/>\n",
              "    </g>\n",
              "</svg>\n",
              "  </button>\n",
              "\n",
              "<style>\n",
              "  .colab-df-quickchart {\n",
              "      --bg-color: #E8F0FE;\n",
              "      --fill-color: #1967D2;\n",
              "      --hover-bg-color: #E2EBFA;\n",
              "      --hover-fill-color: #174EA6;\n",
              "      --disabled-fill-color: #AAA;\n",
              "      --disabled-bg-color: #DDD;\n",
              "  }\n",
              "\n",
              "  [theme=dark] .colab-df-quickchart {\n",
              "      --bg-color: #3B4455;\n",
              "      --fill-color: #D2E3FC;\n",
              "      --hover-bg-color: #434B5C;\n",
              "      --hover-fill-color: #FFFFFF;\n",
              "      --disabled-bg-color: #3B4455;\n",
              "      --disabled-fill-color: #666;\n",
              "  }\n",
              "\n",
              "  .colab-df-quickchart {\n",
              "    background-color: var(--bg-color);\n",
              "    border: none;\n",
              "    border-radius: 50%;\n",
              "    cursor: pointer;\n",
              "    display: none;\n",
              "    fill: var(--fill-color);\n",
              "    height: 32px;\n",
              "    padding: 0;\n",
              "    width: 32px;\n",
              "  }\n",
              "\n",
              "  .colab-df-quickchart:hover {\n",
              "    background-color: var(--hover-bg-color);\n",
              "    box-shadow: 0 1px 2px rgba(60, 64, 67, 0.3), 0 1px 3px 1px rgba(60, 64, 67, 0.15);\n",
              "    fill: var(--button-hover-fill-color);\n",
              "  }\n",
              "\n",
              "  .colab-df-quickchart-complete:disabled,\n",
              "  .colab-df-quickchart-complete:disabled:hover {\n",
              "    background-color: var(--disabled-bg-color);\n",
              "    fill: var(--disabled-fill-color);\n",
              "    box-shadow: none;\n",
              "  }\n",
              "\n",
              "  .colab-df-spinner {\n",
              "    border: 2px solid var(--fill-color);\n",
              "    border-color: transparent;\n",
              "    border-bottom-color: var(--fill-color);\n",
              "    animation:\n",
              "      spin 1s steps(1) infinite;\n",
              "  }\n",
              "\n",
              "  @keyframes spin {\n",
              "    0% {\n",
              "      border-color: transparent;\n",
              "      border-bottom-color: var(--fill-color);\n",
              "      border-left-color: var(--fill-color);\n",
              "    }\n",
              "    20% {\n",
              "      border-color: transparent;\n",
              "      border-left-color: var(--fill-color);\n",
              "      border-top-color: var(--fill-color);\n",
              "    }\n",
              "    30% {\n",
              "      border-color: transparent;\n",
              "      border-left-color: var(--fill-color);\n",
              "      border-top-color: var(--fill-color);\n",
              "      border-right-color: var(--fill-color);\n",
              "    }\n",
              "    40% {\n",
              "      border-color: transparent;\n",
              "      border-right-color: var(--fill-color);\n",
              "      border-top-color: var(--fill-color);\n",
              "    }\n",
              "    60% {\n",
              "      border-color: transparent;\n",
              "      border-right-color: var(--fill-color);\n",
              "    }\n",
              "    80% {\n",
              "      border-color: transparent;\n",
              "      border-right-color: var(--fill-color);\n",
              "      border-bottom-color: var(--fill-color);\n",
              "    }\n",
              "    90% {\n",
              "      border-color: transparent;\n",
              "      border-bottom-color: var(--fill-color);\n",
              "    }\n",
              "  }\n",
              "</style>\n",
              "\n",
              "  <script>\n",
              "    async function quickchart(key) {\n",
              "      const quickchartButtonEl =\n",
              "        document.querySelector('#' + key + ' button');\n",
              "      quickchartButtonEl.disabled = true;  // To prevent multiple clicks.\n",
              "      quickchartButtonEl.classList.add('colab-df-spinner');\n",
              "      try {\n",
              "        const charts = await google.colab.kernel.invokeFunction(\n",
              "            'suggestCharts', [key], {});\n",
              "      } catch (error) {\n",
              "        console.error('Error during call to suggestCharts:', error);\n",
              "      }\n",
              "      quickchartButtonEl.classList.remove('colab-df-spinner');\n",
              "      quickchartButtonEl.classList.add('colab-df-quickchart-complete');\n",
              "    }\n",
              "    (() => {\n",
              "      let quickchartButtonEl =\n",
              "        document.querySelector('#df-53e8c4f0-0799-4d81-95d0-56895afd7916 button');\n",
              "      quickchartButtonEl.style.display =\n",
              "        google.colab.kernel.accessAllowed ? 'block' : 'none';\n",
              "    })();\n",
              "  </script>\n",
              "</div>\n",
              "    </div>\n",
              "  </div>\n"
            ]
          },
          "metadata": {},
          "execution_count": 8
        }
      ]
    },
    {
      "cell_type": "markdown",
      "source": [
        "9. Deklarasikan variabel x dari header \"Data Ke\""
      ],
      "metadata": {
        "id": "erhvQmWlXQFg"
      }
    },
    {
      "cell_type": "code",
      "source": [
        "x=data_telur['Data']\n",
        "x"
      ],
      "metadata": {
        "colab": {
          "base_uri": "https://localhost:8080/"
        },
        "id": "8dXaVPtfXWGs",
        "outputId": "26cc195b-58d8-4aa6-df04-1c5d4b742819"
      },
      "execution_count": 9,
      "outputs": [
        {
          "output_type": "execute_result",
          "data": {
            "text/plain": [
              "0       1\n",
              "1       2\n",
              "2       3\n",
              "3       4\n",
              "4       5\n",
              "     ... \n",
              "95     96\n",
              "96     97\n",
              "97     98\n",
              "98     99\n",
              "99    100\n",
              "Name: Data, Length: 100, dtype: int64"
            ]
          },
          "metadata": {},
          "execution_count": 9
        }
      ]
    },
    {
      "cell_type": "markdown",
      "source": [
        "10. Deklarasikan variabel y dari header \"Harga\"\n"
      ],
      "metadata": {
        "id": "MEO-rkc9Xpqr"
      }
    },
    {
      "cell_type": "code",
      "source": [
        "y=data_telur['Harga']\n",
        "y"
      ],
      "metadata": {
        "colab": {
          "base_uri": "https://localhost:8080/"
        },
        "id": "zEhgPpdiXqZR",
        "outputId": "48e0e40d-1cef-425b-bcf9-0162f93c1f6d"
      },
      "execution_count": 10,
      "outputs": [
        {
          "output_type": "execute_result",
          "data": {
            "text/plain": [
              "0     27400\n",
              "1     27800\n",
              "2     27850\n",
              "3     27800\n",
              "4     27700\n",
              "      ...  \n",
              "95    28100\n",
              "96    29000\n",
              "97    30050\n",
              "98    30350\n",
              "99    30100\n",
              "Name: Harga, Length: 100, dtype: int64"
            ]
          },
          "metadata": {},
          "execution_count": 10
        }
      ]
    },
    {
      "cell_type": "markdown",
      "source": [
        "B. Perhitungan RKT Linear"
      ],
      "metadata": {
        "id": "rPoOnn_JX7jt"
      }
    },
    {
      "cell_type": "code",
      "source": [
        "x=data_telur['Data']\n",
        "y=data_telur['Harga']\n",
        "rata_x=np.mean(x)\n",
        "rata_y=np.mean(y)\n",
        "print(\"Nilai rata-rata dari x=\",rata_x)\n",
        "print(\"Nilai rata-rata dari y=\",rata_y)"
      ],
      "metadata": {
        "colab": {
          "base_uri": "https://localhost:8080/"
        },
        "id": "fCGax13QYAy2",
        "outputId": "d04ba909-6d30-4aa5-fa61-dbf296935b3f"
      },
      "execution_count": 11,
      "outputs": [
        {
          "output_type": "stream",
          "name": "stdout",
          "text": [
            "Nilai rata-rata dari x= 50.5\n",
            "Nilai rata-rata dari y= 27855.5\n"
          ]
        }
      ]
    },
    {
      "cell_type": "code",
      "source": [
        "n=len(x)\n",
        "xy=0\n",
        "sigma_x=0\n",
        "sigma_y=0\n",
        "x2=0\n",
        "\n",
        "for i in range(n) :\n",
        "  xy += x[i]*y[i]\n",
        "  sigma_x += x[i]\n",
        "  sigma_y += y[i]\n",
        "  x2 += x[i]**2\n",
        "\n",
        "print(\"Nilai xy = \",xy)\n",
        "print(\"Nilai sigma x =\",sigma_x)\n",
        "print(\"Nilai sigma y =\",sigma_y)\n",
        "print(\"Sigma x kuadrat =\",x2)\n",
        "\n",
        "atas=(n*xy)-(sigma_x*sigma_y)\n",
        "bawah=(n*x2)-((sigma_x)**2)\n",
        "b=atas/bawah\n",
        "print(\"Nilai b =\",b)\n",
        "a=rata_y-(b*rata_x)\n",
        "print(\"Nilai a =\",a)\n",
        "RKT_y=a+b*x\n",
        "print(\"Nilai fungsi =\",RKT_y)"
      ],
      "metadata": {
        "colab": {
          "base_uri": "https://localhost:8080/"
        },
        "id": "pIEQ5XrKbeGA",
        "outputId": "cc7ab4b6-38ec-49c2-94e4-a3a0957c6264"
      },
      "execution_count": 12,
      "outputs": [
        {
          "output_type": "stream",
          "name": "stdout",
          "text": [
            "Nilai xy =  141820400\n",
            "Nilai sigma x = 5050\n",
            "Nilai sigma y = 2785550\n",
            "Sigma x kuadrat = 338350\n",
            "Nilai b = 13.802880288028803\n",
            "Nilai a = 27158.454545454544\n",
            "Nilai fungsi = 0     27172.257426\n",
            "1     27186.060306\n",
            "2     27199.863186\n",
            "3     27213.666067\n",
            "4     27227.468947\n",
            "          ...     \n",
            "95    28483.531053\n",
            "96    28497.333933\n",
            "97    28511.136814\n",
            "98    28524.939694\n",
            "99    28538.742574\n",
            "Name: Data, Length: 100, dtype: float64\n"
          ]
        }
      ]
    },
    {
      "cell_type": "code",
      "source": [
        "#Scatter plot untuk data asli\n",
        "plt.scatter(x,y)\n",
        "\n",
        "#Grafik RKT\n",
        "plt.plot(x,RKT_y)\n",
        "plt.title('Regresi Kuadrat Terkecil (Linier)')\n",
        "plt.xlabel('Data')\n",
        "plt.ylabel('Harga')\n",
        "plt.legend(['Real','RKT Linier'])\n",
        "plt.show()"
      ],
      "metadata": {
        "colab": {
          "base_uri": "https://localhost:8080/",
          "height": 472
        },
        "id": "iiEpPgIhn-or",
        "outputId": "10f7067e-888c-4848-e673-663bfff1db35"
      },
      "execution_count": 13,
      "outputs": [
        {
          "output_type": "display_data",
          "data": {
            "text/plain": [
              "<Figure size 640x480 with 1 Axes>"
            ],
            "image/png": "[encoded data removed]"
          },
          "metadata": {}
        }
      ]
    },
    {
      "cell_type": "markdown",
      "source": [
        "**C**. Koefisien Korelasi"
      ],
      "metadata": {
        "id": "6StYlZq5oNrF"
      }
    },
    {
      "cell_type": "code",
      "source": [
        "Dt2=0\n",
        "D2=0\n",
        "\n",
        "for j in range(n) :\n",
        "  Dt2 += (y[j]-rata_y)**2\n",
        "  D2 += (y[j]-a-b*x[j])**2\n",
        "\n",
        "r2=(Dt2-D2)/Dt2\n",
        "print(\"Nilai koefisien korelasi=\",r2)"
      ],
      "metadata": {
        "colab": {
          "base_uri": "https://localhost:8080/"
        },
        "id": "gBQ_kNXPoPJ4",
        "outputId": "ff046740-bed1-4bf3-cc1b-69f36f3b7367"
      },
      "execution_count": 14,
      "outputs": [
        {
          "output_type": "stream",
          "name": "stdout",
          "text": [
            "Nilai koefisien korelasi= 0.007519956438485047\n"
          ]
        }
      ]
    }
  ]
}