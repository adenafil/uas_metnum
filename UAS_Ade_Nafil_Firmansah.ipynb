{
  "nbformat": 4,
  "nbformat_minor": 0,
  "metadata": {
    "colab": {
      "provenance": [],
      "authorship_tag": "ABX9TyMYdhezVjxIYgdZNYQHizWQ",
      "include_colab_link": true
    },
    "kernelspec": {
      "name": "python3",
      "display_name": "Python 3"
    },
    "language_info": {
      "name": "python"
    }
  },
  "cells": [
    {
      "cell_type": "markdown",
      "metadata": {
        "id": "view-in-github",
        "colab_type": "text"
      },
      "source": [
        "<a href=\"https://colab.research.google.com/github/adenafil/uas_metnum/blob/main/UAS_Ade_Nafil_Firmansah.ipynb\" target=\"_parent\"><img src=\"https://colab.research.google.com/assets/colab-badge.svg\" alt=\"Open In Colab\"/></a>"
      ]
    },
    {
      "cell_type": "markdown",
      "source": [
        "A. Persiapan Data\n",
        "\n",
        "  1. Import library Numerical Python (Numpy)"
      ],
      "metadata": {
        "id": "KmeO-4Zi4uKP"
      }
    },
    {
      "cell_type": "code",
      "source": [
        "import numpy as np"
      ],
      "metadata": {
        "id": "S86_2IA-5HTn"
      },
      "execution_count": null,
      "outputs": []
    },
    {
      "cell_type": "markdown",
      "source": [
        "  2. Import library pandas"
      ],
      "metadata": {
        "id": "8jfByqhE5Lcl"
      }
    },
    {
      "cell_type": "code",
      "source": [
        "import pandas as pd"
      ],
      "metadata": {
        "id": "9dMTibkk5Rr3"
      },
      "execution_count": null,
      "outputs": []
    },
    {
      "cell_type": "markdown",
      "source": [
        "  3. Import library math"
      ],
      "metadata": {
        "id": "e2ODz5RK5VMz"
      }
    },
    {
      "cell_type": "code",
      "source": [
        "import math"
      ],
      "metadata": {
        "id": "BII0cAXD5Y9U"
      },
      "execution_count": null,
      "outputs": []
    },
    {
      "cell_type": "markdown",
      "source": [
        "4. Import library untuk plot grafik"
      ],
      "metadata": {
        "id": "_poxLHqLVVgO"
      }
    },
    {
      "cell_type": "code",
      "source": [
        "import matplotlib.pyplot as plt"
      ],
      "metadata": {
        "id": "WIOD_0fyVWww"
      },
      "execution_count": null,
      "outputs": []
    },
    {
      "cell_type": "markdown",
      "source": [
        "  5. Import drive untuk mengakses file\n"
      ],
      "metadata": {
        "id": "RQsdpKSnVazR"
      }
    },
    {
      "cell_type": "code",
      "source": [
        "from google.colab import drive\n",
        "drive.mount('/content/drive')"
      ],
      "metadata": {
        "colab": {
          "base_uri": "https://localhost:8080/"
        },
        "id": "2iGfqb2LVe7m",
        "outputId": "5fbada08-b643-4d30-fa1b-9fdf5893decf"
      },
      "execution_count": null,
      "outputs": [
        {
          "output_type": "stream",
          "name": "stdout",
          "text": [
            "Mounted at /content/drive\n"
          ]
        }
      ]
    },
    {
      "cell_type": "markdown",
      "source": [
        "6. Upload file excel ke dalam session storage"
      ],
      "metadata": {
        "id": "4lzbihH8Vkve"
      }
    },
    {
      "cell_type": "markdown",
      "source": [
        "7. Simpan file Excel tersebut dalam variabel dengan nama data_ekspor\n"
      ],
      "metadata": {
        "id": "Hv4E3y2-V8M4"
      }
    },
    {
      "cell_type": "code",
      "source": [
        "data_telur=pd.read_excel('/content/data_telur_surabaya.xlsx')"
      ],
      "metadata": {
        "id": "IQhjTTl3WMVK"
      },
      "execution_count": null,
      "outputs": []
    },
    {
      "cell_type": "markdown",
      "source": [
        "8. Tampilkan head dari data tersebut"
      ],
      "metadata": {
        "id": "G7kvvTqbWU_2"
      }
    },
    {
      "cell_type": "code",
      "source": [
        "data_telur.head()"
      ],
      "metadata": {
        "colab": {
          "base_uri": "https://localhost:8080/",
          "height": 206
        },
        "id": "l8xviJM4WWR_",
        "outputId": "ec67d945-0e5b-4550-9efa-f286ec24d507"
      },
      "execution_count": null,
      "outputs": [
        {
          "output_type": "execute_result",
          "data": {
            "text/plain": [
              "   Data  Harga\n",
              "0     1  27400\n",
              "1     2  27800\n",
              "2     3  27850\n",
              "3     4  27800\n",
              "4     5  27700"
            ],
            "text/html": [
              "\n",
              "  <div id=\"df-d5a27d12-3683-418d-b37d-769555e5b445\" class=\"colab-df-container\">\n",
              "    <div>\n",
              "<style scoped>\n",
              "    .dataframe tbody tr th:only-of-type {\n",
              "        vertical-align: middle;\n",
              "    }\n",
              "\n",
              "    .dataframe tbody tr th {\n",
              "        vertical-align: top;\n",
              "    }\n",
              "\n",
              "    .dataframe thead th {\n",
              "        text-align: right;\n",
              "    }\n",
              "</style>\n",
              "<table border=\"1\" class=\"dataframe\">\n",
              "  <thead>\n",
              "    <tr style=\"text-align: right;\">\n",
              "      <th></th>\n",
              "      <th>Data</th>\n",
              "      <th>Harga</th>\n",
              "    </tr>\n",
              "  </thead>\n",
              "  <tbody>\n",
              "    <tr>\n",
              "      <th>0</th>\n",
              "      <td>1</td>\n",
              "      <td>27400</td>\n",
              "    </tr>\n",
              "    <tr>\n",
              "      <th>1</th>\n",
              "      <td>2</td>\n",
              "      <td>27800</td>\n",
              "    </tr>\n",
              "    <tr>\n",
              "      <th>2</th>\n",
              "      <td>3</td>\n",
              "      <td>27850</td>\n",
              "    </tr>\n",
              "    <tr>\n",
              "      <th>3</th>\n",
              "      <td>4</td>\n",
              "      <td>27800</td>\n",
              "    </tr>\n",
              "    <tr>\n",
              "      <th>4</th>\n",
              "      <td>5</td>\n",
              "      <td>27700</td>\n",
              "    </tr>\n",
              "  </tbody>\n",
              "</table>\n",
              "</div>\n",
              "    <div class=\"colab-df-buttons\">\n",
              "\n",
              "  <div class=\"colab-df-container\">\n",
              "    <button class=\"colab-df-convert\" onclick=\"convertToInteractive('df-d5a27d12-3683-418d-b37d-769555e5b445')\"\n",
              "            title=\"Convert this dataframe to an interactive table.\"\n",
              "            style=\"display:none;\">\n",
              "\n",
              "  <svg xmlns=\"http://www.w3.org/2000/svg\" height=\"24px\" viewBox=\"0 -960 960 960\">\n",
              "    <path d=\"M120-120v-720h720v720H120Zm60-500h600v-160H180v160Zm220 220h160v-160H400v160Zm0 220h160v-160H400v160ZM180-400h160v-160H180v160Zm440 0h160v-160H620v160ZM180-180h160v-160H180v160Zm440 0h160v-160H620v160Z\"/>\n",
              "  </svg>\n",
              "    </button>\n",
              "\n",
              "  <style>\n",
              "    .colab-df-container {\n",
              "      display:flex;\n",
              "      gap: 12px;\n",
              "    }\n",
              "\n",
              "    .colab-df-convert {\n",
              "      background-color: #E8F0FE;\n",
              "      border: none;\n",
              "      border-radius: 50%;\n",
              "      cursor: pointer;\n",
              "      display: none;\n",
              "      fill: #1967D2;\n",
              "      height: 32px;\n",
              "      padding: 0 0 0 0;\n",
              "      width: 32px;\n",
              "    }\n",
              "\n",
              "    .colab-df-convert:hover {\n",
              "      background-color: #E2EBFA;\n",
              "      box-shadow: 0px 1px 2px rgba(60, 64, 67, 0.3), 0px 1px 3px 1px rgba(60, 64, 67, 0.15);\n",
              "      fill: #174EA6;\n",
              "    }\n",
              "\n",
              "    .colab-df-buttons div {\n",
              "      margin-bottom: 4px;\n",
              "    }\n",
              "\n",
              "    [theme=dark] .colab-df-convert {\n",
              "      background-color: #3B4455;\n",
              "      fill: #D2E3FC;\n",
              "    }\n",
              "\n",
              "    [theme=dark] .colab-df-convert:hover {\n",
              "      background-color: #434B5C;\n",
              "      box-shadow: 0px 1px 3px 1px rgba(0, 0, 0, 0.15);\n",
              "      filter: drop-shadow(0px 1px 2px rgba(0, 0, 0, 0.3));\n",
              "      fill: #FFFFFF;\n",
              "    }\n",
              "  </style>\n",
              "\n",
              "    <script>\n",
              "      const buttonEl =\n",
              "        document.querySelector('#df-d5a27d12-3683-418d-b37d-769555e5b445 button.colab-df-convert');\n",
              "      buttonEl.style.display =\n",
              "        google.colab.kernel.accessAllowed ? 'block' : 'none';\n",
              "\n",
              "      async function convertToInteractive(key) {\n",
              "        const element = document.querySelector('#df-d5a27d12-3683-418d-b37d-769555e5b445');\n",
              "        const dataTable =\n",
              "          await google.colab.kernel.invokeFunction('convertToInteractive',\n",
              "                                                    [key], {});\n",
              "        if (!dataTable) return;\n",
              "\n",
              "        const docLinkHtml = 'Like what you see? Visit the ' +\n",
              "          '<a target=\"_blank\" href=https://colab.research.google.com/notebooks/data_table.ipynb>data table notebook</a>'\n",
              "          + ' to learn more about interactive tables.';\n",
              "        element.innerHTML = '';\n",
              "        dataTable['output_type'] = 'display_data';\n",
              "        await google.colab.output.renderOutput(dataTable, element);\n",
              "        const docLink = document.createElement('div');\n",
              "        docLink.innerHTML = docLinkHtml;\n",
              "        element.appendChild(docLink);\n",
              "      }\n",
              "    </script>\n",
              "  </div>\n",
              "\n",
              "\n",
              "<div id=\"df-aa213b46-35d5-45be-bc22-6d39efd37d56\">\n",
              "  <button class=\"colab-df-quickchart\" onclick=\"quickchart('df-aa213b46-35d5-45be-bc22-6d39efd37d56')\"\n",
              "            title=\"Suggest charts\"\n",
              "            style=\"display:none;\">\n",
              "\n",
              "<svg xmlns=\"http://www.w3.org/2000/svg\" height=\"24px\"viewBox=\"0 0 24 24\"\n",
              "     width=\"24px\">\n",
              "    <g>\n",
              "        <path d=\"M19 3H5c-1.1 0-2 .9-2 2v14c0 1.1.9 2 2 2h14c1.1 0 2-.9 2-2V5c0-1.1-.9-2-2-2zM9 17H7v-7h2v7zm4 0h-2V7h2v10zm4 0h-2v-4h2v4z\"/>\n",
              "    </g>\n",
              "</svg>\n",
              "  </button>\n",
              "\n",
              "<style>\n",
              "  .colab-df-quickchart {\n",
              "      --bg-color: #E8F0FE;\n",
              "      --fill-color: #1967D2;\n",
              "      --hover-bg-color: #E2EBFA;\n",
              "      --hover-fill-color: #174EA6;\n",
              "      --disabled-fill-color: #AAA;\n",
              "      --disabled-bg-color: #DDD;\n",
              "  }\n",
              "\n",
              "  [theme=dark] .colab-df-quickchart {\n",
              "      --bg-color: #3B4455;\n",
              "      --fill-color: #D2E3FC;\n",
              "      --hover-bg-color: #434B5C;\n",
              "      --hover-fill-color: #FFFFFF;\n",
              "      --disabled-bg-color: #3B4455;\n",
              "      --disabled-fill-color: #666;\n",
              "  }\n",
              "\n",
              "  .colab-df-quickchart {\n",
              "    background-color: var(--bg-color);\n",
              "    border: none;\n",
              "    border-radius: 50%;\n",
              "    cursor: pointer;\n",
              "    display: none;\n",
              "    fill: var(--fill-color);\n",
              "    height: 32px;\n",
              "    padding: 0;\n",
              "    width: 32px;\n",
              "  }\n",
              "\n",
              "  .colab-df-quickchart:hover {\n",
              "    background-color: var(--hover-bg-color);\n",
              "    box-shadow: 0 1px 2px rgba(60, 64, 67, 0.3), 0 1px 3px 1px rgba(60, 64, 67, 0.15);\n",
              "    fill: var(--button-hover-fill-color);\n",
              "  }\n",
              "\n",
              "  .colab-df-quickchart-complete:disabled,\n",
              "  .colab-df-quickchart-complete:disabled:hover {\n",
              "    background-color: var(--disabled-bg-color);\n",
              "    fill: var(--disabled-fill-color);\n",
              "    box-shadow: none;\n",
              "  }\n",
              "\n",
              "  .colab-df-spinner {\n",
              "    border: 2px solid var(--fill-color);\n",
              "    border-color: transparent;\n",
              "    border-bottom-color: var(--fill-color);\n",
              "    animation:\n",
              "      spin 1s steps(1) infinite;\n",
              "  }\n",
              "\n",
              "  @keyframes spin {\n",
              "    0% {\n",
              "      border-color: transparent;\n",
              "      border-bottom-color: var(--fill-color);\n",
              "      border-left-color: var(--fill-color);\n",
              "    }\n",
              "    20% {\n",
              "      border-color: transparent;\n",
              "      border-left-color: var(--fill-color);\n",
              "      border-top-color: var(--fill-color);\n",
              "    }\n",
              "    30% {\n",
              "      border-color: transparent;\n",
              "      border-left-color: var(--fill-color);\n",
              "      border-top-color: var(--fill-color);\n",
              "      border-right-color: var(--fill-color);\n",
              "    }\n",
              "    40% {\n",
              "      border-color: transparent;\n",
              "      border-right-color: var(--fill-color);\n",
              "      border-top-color: var(--fill-color);\n",
              "    }\n",
              "    60% {\n",
              "      border-color: transparent;\n",
              "      border-right-color: var(--fill-color);\n",
              "    }\n",
              "    80% {\n",
              "      border-color: transparent;\n",
              "      border-right-color: var(--fill-color);\n",
              "      border-bottom-color: var(--fill-color);\n",
              "    }\n",
              "    90% {\n",
              "      border-color: transparent;\n",
              "      border-bottom-color: var(--fill-color);\n",
              "    }\n",
              "  }\n",
              "</style>\n",
              "\n",
              "  <script>\n",
              "    async function quickchart(key) {\n",
              "      const quickchartButtonEl =\n",
              "        document.querySelector('#' + key + ' button');\n",
              "      quickchartButtonEl.disabled = true;  // To prevent multiple clicks.\n",
              "      quickchartButtonEl.classList.add('colab-df-spinner');\n",
              "      try {\n",
              "        const charts = await google.colab.kernel.invokeFunction(\n",
              "            'suggestCharts', [key], {});\n",
              "      } catch (error) {\n",
              "        console.error('Error during call to suggestCharts:', error);\n",
              "      }\n",
              "      quickchartButtonEl.classList.remove('colab-df-spinner');\n",
              "      quickchartButtonEl.classList.add('colab-df-quickchart-complete');\n",
              "    }\n",
              "    (() => {\n",
              "      let quickchartButtonEl =\n",
              "        document.querySelector('#df-aa213b46-35d5-45be-bc22-6d39efd37d56 button');\n",
              "      quickchartButtonEl.style.display =\n",
              "        google.colab.kernel.accessAllowed ? 'block' : 'none';\n",
              "    })();\n",
              "  </script>\n",
              "</div>\n",
              "    </div>\n",
              "  </div>\n"
            ]
          },
          "metadata": {},
          "execution_count": 7
        }
      ]
    },
    {
      "cell_type": "markdown",
      "source": [
        "9. Deklarasikan variabel x dari header \"Data Ke\""
      ],
      "metadata": {
        "id": "erhvQmWlXQFg"
      }
    },
    {
      "cell_type": "code",
      "source": [
        "x=data_telur['Data']\n",
        "x"
      ],
      "metadata": {
        "colab": {
          "base_uri": "https://localhost:8080/"
        },
        "id": "8dXaVPtfXWGs",
        "outputId": "d87c00f2-43c4-4afc-ced6-09f3bf32447f"
      },
      "execution_count": null,
      "outputs": [
        {
          "output_type": "execute_result",
          "data": {
            "text/plain": [
              "0       1\n",
              "1       2\n",
              "2       3\n",
              "3       4\n",
              "4       5\n",
              "     ... \n",
              "95     96\n",
              "96     97\n",
              "97     98\n",
              "98     99\n",
              "99    100\n",
              "Name: Data, Length: 100, dtype: int64"
            ]
          },
          "metadata": {},
          "execution_count": 8
        }
      ]
    },
    {
      "cell_type": "markdown",
      "source": [
        "10. Deklarasikan variabel y dari header \"Harga\"\n"
      ],
      "metadata": {
        "id": "MEO-rkc9Xpqr"
      }
    },
    {
      "cell_type": "code",
      "source": [
        "y=data_telur['Harga']\n",
        "y"
      ],
      "metadata": {
        "colab": {
          "base_uri": "https://localhost:8080/"
        },
        "id": "zEhgPpdiXqZR",
        "outputId": "b1d4a895-4f35-429f-a006-858149c12b9e"
      },
      "execution_count": null,
      "outputs": [
        {
          "output_type": "execute_result",
          "data": {
            "text/plain": [
              "0     27400\n",
              "1     27800\n",
              "2     27850\n",
              "3     27800\n",
              "4     27700\n",
              "      ...  \n",
              "95    28100\n",
              "96    29000\n",
              "97    30050\n",
              "98    30350\n",
              "99    30100\n",
              "Name: Harga, Length: 100, dtype: int64"
            ]
          },
          "metadata": {},
          "execution_count": 9
        }
      ]
    },
    {
      "cell_type": "markdown",
      "source": [
        "B. Perhitungan RKT Linear"
      ],
      "metadata": {
        "id": "rPoOnn_JX7jt"
      }
    },
    {
      "cell_type": "code",
      "source": [
        "x=data_telur['Data']\n",
        "y=data_telur['Harga']\n",
        "rata_x=np.mean(x)\n",
        "rata_y=np.mean(y)\n",
        "print(\"Nilai rata-rata dari x=\",rata_x)\n",
        "print(\"Nilai rata-rata dari y=\",rata_y)"
      ],
      "metadata": {
        "colab": {
          "base_uri": "https://localhost:8080/"
        },
        "id": "fCGax13QYAy2",
        "outputId": "10058b3c-ab18-451c-e44d-a85cdbb97f80"
      },
      "execution_count": null,
      "outputs": [
        {
          "output_type": "stream",
          "name": "stdout",
          "text": [
            "Nilai rata-rata dari x= 50.5\n",
            "Nilai rata-rata dari y= 27165.5\n"
          ]
        }
      ]
    },
    {
      "cell_type": "code",
      "source": [
        "n=len(x)\n",
        "xy=0\n",
        "sigma_x=0\n",
        "sigma_y=0\n",
        "x2=0\n",
        "\n",
        "for i in range(n) :\n",
        "  xy += x[i]*y[i]\n",
        "  sigma_x += x[i]\n",
        "  sigma_y += y[i]\n",
        "  x2 += x[i]**2\n",
        "\n",
        "print(\"Nilai xy = \",xy)\n",
        "print(\"Nilai sigma x =\",sigma_x)\n",
        "print(\"Nilai sigma y =\",sigma_y)\n",
        "print(\"Sigma x kuadrat =\",x2)\n",
        "\n",
        "atas=(n*xy)-(sigma_x*sigma_y)\n",
        "bawah=(n*x2)-((sigma_x)**2)\n",
        "b=atas/bawah\n",
        "print(\"Nilai b =\",b)\n",
        "a=rata_y-(b*rata_x)\n",
        "print(\"Nilai a =\",a)\n",
        "RKT_y=a+b*x\n",
        "print(\"Nilai fungsi =\",RKT_y)"
      ],
      "metadata": {
        "colab": {
          "base_uri": "https://localhost:8080/"
        },
        "id": "pIEQ5XrKbeGA",
        "outputId": "82cf6270-99cc-4ae3-da5f-1e3207118ec2"
      },
      "execution_count": null,
      "outputs": [
        {
          "output_type": "stream",
          "name": "stdout",
          "text": [
            "Nilai xy =  136162400\n",
            "Nilai sigma x = 5050\n",
            "Nilai sigma y = 2716550\n",
            "Sigma x kuadrat = 338350\n",
            "Nilai b = -12.281728172817282\n",
            "Nilai a = 27785.727272727272\n",
            "Nilai fungsi = 0     27773.445545\n",
            "1     27761.163816\n",
            "2     27748.882088\n",
            "3     27736.600360\n",
            "4     27724.318632\n",
            "          ...     \n",
            "95    26606.681368\n",
            "96    26594.399640\n",
            "97    26582.117912\n",
            "98    26569.836184\n",
            "99    26557.554455\n",
            "Name: Data, Length: 100, dtype: float64\n"
          ]
        }
      ]
    },
    {
      "cell_type": "code",
      "source": [
        "#Scatter plot untuk data asli\n",
        "plt.scatter(x,y)\n",
        "\n",
        "#Grafik RKT\n",
        "plt.plot(x,RKT_y)\n",
        "plt.title('Regresi Kuadrat Terkecil (Linier)')\n",
        "plt.xlabel('Data')\n",
        "plt.ylabel('Harga')\n",
        "plt.legend(['Real','RKT Linier'])\n",
        "plt.show()"
      ],
      "metadata": {
        "colab": {
          "base_uri": "https://localhost:8080/",
          "height": 472
        },
        "id": "iiEpPgIhn-or",
        "outputId": "7a1571d8-c183-4db0-c370-d09437343bab"
      },
      "execution_count": null,
      "outputs": [
        {
          "output_type": "display_data",
          "data": {
            "text/plain": [
              "<Figure size 640x480 with 1 Axes>"
            ],
            "image/png": "[encoded data removed]"
          },
          "metadata": {}
        }
      ]
    },
    {
      "cell_type": "markdown",
      "source": [
        "**C**. Koefisien Korelasi"
      ],
      "metadata": {
        "id": "6StYlZq5oNrF"
      }
    },
    {
      "cell_type": "code",
      "source": [
        "Dt2=0\n",
        "D2=0\n",
        "\n",
        "for j in range(n) :\n",
        "  Dt2 += (y[j]-rata_y)**2\n",
        "  D2 += (y[j]-a-b*x[j])**2\n",
        "\n",
        "r2=(Dt2-D2)/Dt2\n",
        "print(\"Nilai koefisien korelasi=\",r2)"
      ],
      "metadata": {
        "colab": {
          "base_uri": "https://localhost:8080/"
        },
        "id": "gBQ_kNXPoPJ4",
        "outputId": "bf10f28e-db84-4fd5-aa09-09f0a1345cab"
      },
      "execution_count": null,
      "outputs": [
        {
          "output_type": "stream",
          "name": "stdout",
          "text": [
            "Nilai koefisien korelasi= 0.010962734821939752\n"
          ]
        }
      ]
    },
    {
      "cell_type": "code",
      "source": [
        "anX = np.array([x[80], x[82], x[83]])\n",
        "anY = np.array([y[80], y[82], y[83]])\n",
        "\n",
        "rataRataY = np.mean(y)\n",
        "runRumus = (np.sum((anX - np.mean(anY)) * (anY - np.mean(anY) ))   ) / np.sum((x - np.mean(x)) ** 2)\n",
        "\n",
        "x_interp = 81;\n",
        "y_interp = rataRataY + runRumus * (x_interp - np.mean(anY));\n",
        "\n",
        "print(f\"Nilai Interpolasi di X = {x_interp} adalah: {y_interp}\")"
      ],
      "metadata": {
        "colab": {
          "base_uri": "https://localhost:8080/"
        },
        "id": "4p2SXm9iedOj",
        "outputId": "1e4e23b0-df63-407c-82aa-2fba6d4fb7f8"
      },
      "execution_count": null,
      "outputs": [
        {
          "output_type": "stream",
          "name": "stdout",
          "text": [
            "Nilai Interpolasi di X = 81 adalah: 27631.98771546882\n"
          ]
        }
      ]
    }
  ]
}